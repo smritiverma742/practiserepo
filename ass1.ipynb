{
 "cells": [
  {
   "cell_type": "markdown",
   "id": "fbef3fb0",
   "metadata": {},
   "source": [
    "1. Write a NumPy program to convert a list of numeric values into a one-dimensional NumPy array.\n",
    "Expected Output:\n",
    "Original List: [12.23, 13.32, 100, 36.32]\n",
    "One-dimensional NumPy array: [ 12.23 13.32 100. 36.32]\n"
   ]
  },
  {
   "cell_type": "code",
   "execution_count": 5,
   "id": "80534399",
   "metadata": {},
   "outputs": [
    {
     "name": "stdout",
     "output_type": "stream",
     "text": [
      "One-dimensional NumPy array: \n",
      "[[ 12.23  13.32 100.    36.32]]\n"
     ]
    }
   ],
   "source": [
    "import numpy as np\n",
    "print(\"One-dimensional NumPy array: \")\n",
    "data=np.array([[12.23, 13.32, 100, 36.32]])\n",
    "print(data)"
   ]
  },
  {
   "cell_type": "markdown",
   "id": "99b23f94",
   "metadata": {},
   "source": [
    "2.\tWrite a NumPy program to create a 3x3 matrix with values ranging from 2 to 10.\n",
    "Expected Output:\n",
    "[[ 2 3 4]\n",
    "[ 5 6 7]\n",
    "[ 8 9 10]]\n"
   ]
  },
  {
   "cell_type": "code",
   "execution_count": null,
   "id": "ee9c5d29",
   "metadata": {},
   "outputs": [
    {
     "name": "stdout",
     "output_type": "stream",
     "text": [
      "[[ 2  3  4]\n",
      " [ 5  6  7]\n",
      " [ 8  9 10]]\n"
     ]
    }
   ],
   "source": [
    "data=np.arange(2,11)\n",
    "a=data.reshape(3,3)\n",
    "print(\"Output\" , a)"
   ]
  },
  {
   "cell_type": "markdown",
   "id": "1a9baa39",
   "metadata": {},
   "source": [
    "3.\tWrite a  NumPy program to create a null vector of size 10 and update the sixth value to 11.\n",
    "[ 0. 0. 0. 0. 0. 0. 0. 0. 0. 0.]\n",
    "Update sixth value to 11\n",
    "[ 0. 0. 0. 0. 0. 0. 11. 0. 0. 0.]\n"
   ]
  },
  {
   "cell_type": "code",
   "execution_count": 12,
   "id": "99af8ecc",
   "metadata": {},
   "outputs": [
    {
     "name": "stdout",
     "output_type": "stream",
     "text": [
      "[ 0.  0.  0.  0.  0.  0. 11.  0.  0.  0.]\n"
     ]
    }
   ],
   "source": [
    "df=np.zeros(10)\n",
    "df[6]=11\n",
    "print(df)"
   ]
  },
  {
   "cell_type": "markdown",
   "id": "8168fd66",
   "metadata": {},
   "source": [
    "4.\tWrite a NumPy program to create an array with values ranging from 12 to 38.\n",
    "Expected Output:\n",
    "[12 13 14 15 16 17 18 19 20 21 22 23 24 25 26 27 28 29 30 31 32 33 34 35 36 37]\n"
   ]
  },
  {
   "cell_type": "code",
   "execution_count": 14,
   "id": "6921a4df",
   "metadata": {},
   "outputs": [
    {
     "name": "stdout",
     "output_type": "stream",
     "text": [
      "Our Output [12 13 14 15 16 17 18 19 20 21 22 23 24 25 26 27 28 29 30 31 32 33 34 35\n",
      " 36 37]\n"
     ]
    }
   ],
   "source": [
    "data=np.arange(12,38)\n",
    "print(\"Our Output\" ,data)"
   ]
  },
  {
   "cell_type": "markdown",
   "id": "96aeb1ba",
   "metadata": {},
   "source": [
    "5.\tWrite a NumPy program to reverse an array (the first element becomes the last).\n",
    "Original array:\n",
    "[12 13 14 15 16 17 18 19 20 21 22 23 24 25 26 27 28 29 30 31 32 33 34 35 36 37]\n",
    "Reverse array:\n",
    "[37 36 35 34 33 32 31 30 29 28 27 26 25 24 23 22 21 20 19 18 17 16 15 14 13 12]\n"
   ]
  },
  {
   "cell_type": "code",
   "execution_count": 16,
   "id": "2cffc9b8",
   "metadata": {},
   "outputs": [
    {
     "name": "stdout",
     "output_type": "stream",
     "text": [
      "Original Array:  [12 13 14 15 16 17 18 19 20 21 22 23 24 25 26 27 28 29 30 31 32 33 34 35\n",
      " 36 37]\n",
      "Reversed Array [37 36 35 34 33 32 31 30 29 28 27 26 25 24 23 22 21 20 19 18 17 16 15 14\n",
      " 13 12]\n"
     ]
    }
   ],
   "source": [
    "data=np.arange(12,38)\n",
    "print(\"Original Array: \" ,data)\n",
    "a=data[::-1]\n",
    "print(\"Reversed Array\" ,a)"
   ]
  },
  {
   "cell_type": "markdown",
   "id": "8098aa30",
   "metadata": {},
   "source": [
    "6.\tWrite a  NumPy program to convert an array to a floating type.\n",
    "Sample output:\n",
    "Original array\n",
    "[1, 2, 3, 4]\n",
    "Array converted to a float type:\n",
    "[ 1. 2. 3. 4.]\n"
   ]
  },
  {
   "cell_type": "code",
   "execution_count": null,
   "id": "ddce1099",
   "metadata": {},
   "outputs": [
    {
     "name": "stdout",
     "output_type": "stream",
     "text": [
      "Original Array:  [1. 2. 3. 4.]\n"
     ]
    }
   ],
   "source": [
    "df=np.array([1,2,3,4],dtype=float)\n",
    "print(\"Array Converted to a float type : \",df)\n"
   ]
  },
  {
   "cell_type": "markdown",
   "id": "190e63db",
   "metadata": {},
   "source": [
    "7.\tWrite a NumPy program to create a 2D array with 1 on the border and 0 inside.\n",
    "Expected Output:\n",
    "Original array:\n",
    "[[ 1. 1. 1. 1. 1.]\n",
    "...................\n",
    "[ 1. 1. 1. 1. 1.]]\n",
    "1 on the border and 0 inside in the array\n",
    "[[ 1. 1. 1. 1. 1.]\n",
    "...................\n",
    "[ 1. 1. 1. 1. 1.]]\n"
   ]
  },
  {
   "cell_type": "code",
   "execution_count": 24,
   "id": "b30c153a",
   "metadata": {},
   "outputs": [
    {
     "name": "stdout",
     "output_type": "stream",
     "text": [
      "Original array: \n",
      "[[1. 1. 1. 1. 1.]\n",
      " [1. 1. 1. 1. 1.]\n",
      " [1. 1. 1. 1. 1.]\n",
      " [1. 1. 1. 1. 1.]\n",
      " [1. 1. 1. 1. 1.]]\n",
      "1 on the border and 0 inside the array \n",
      "[[1. 1. 1. 1. 1.]\n",
      " [1. 0. 0. 0. 1.]\n",
      " [1. 0. 0. 0. 1.]\n",
      " [1. 0. 0. 0. 1.]\n",
      " [1. 1. 1. 1. 1.]]\n"
     ]
    }
   ],
   "source": [
    "df=np.ones((5,5))\n",
    "print(\"Original array: \")\n",
    "print(df)\n",
    "df[1:-1,1:-1]=0\n",
    "print(\"1 on the border and 0 inside the array \")\n",
    "print(df)"
   ]
  },
  {
   "cell_type": "markdown",
   "id": "5d4daa44",
   "metadata": {},
   "source": [
    "8.\tWrite a NumPy program to add a border (filled with 0's) around an existing array.\n",
    "Expected Output:\n",
    "Original array:\n",
    "[[ 1. 1. 1.]\n",
    "[ 1. 1. 1.]\n",
    "[ 1. 1. 1.]]\n",
    "1 on the border and 0 inside in the array\n",
    "[[ 0. 0. 0. 0. 0.]\n",
    "...........\n",
    "[ 0. 0. 0. 0. 0.]]\n"
   ]
  },
  {
   "cell_type": "code",
   "execution_count": 25,
   "id": "8f92bfc6",
   "metadata": {},
   "outputs": [
    {
     "name": "stdout",
     "output_type": "stream",
     "text": [
      "Original array : \n",
      "[[1. 1. 1.]\n",
      " [1. 1. 1.]\n",
      " [1. 1. 1.]]\n",
      "1 on the border and 0 inside in the array \n",
      "[[0. 0. 0. 0. 0.]\n",
      " [0. 1. 1. 1. 0.]\n",
      " [0. 1. 1. 1. 0.]\n",
      " [0. 1. 1. 1. 0.]\n",
      " [0. 0. 0. 0. 0.]]\n"
     ]
    }
   ],
   "source": [
    "df=np.ones((3,3))\n",
    "print(\"Original array : \")\n",
    "print(df)\n",
    "a=np.pad(df,pad_width=1,mode='constant',constant_values=0)\n",
    "print(\"1 on the border and 0 inside in the array \")\n",
    "print(a)"
   ]
  },
  {
   "cell_type": "markdown",
   "id": "aa55bf37",
   "metadata": {},
   "source": [
    "9.\tWrite a  NumPy program to create an 8x8 matrix and fill it with a checkerboard pattern.\n",
    "Checkerboard pattern:\n",
    "[[0 1 0 1 0 1 0 1]\n",
    "..........\n",
    "[0 1 0 1 0 1 0 1]\n",
    "[1 0 1 0 1 0 1 0]]\n"
   ]
  },
  {
   "cell_type": "code",
   "execution_count": 27,
   "id": "aa970f9a",
   "metadata": {},
   "outputs": [
    {
     "name": "stdout",
     "output_type": "stream",
     "text": [
      "Checkerboard pattern:\n",
      "[[0 1 0 1 0 1 0 1]\n",
      " [1 0 1 0 1 0 1 0]\n",
      " [0 1 0 1 0 1 0 1]\n",
      " [1 0 1 0 1 0 1 0]\n",
      " [0 1 0 1 0 1 0 1]\n",
      " [1 0 1 0 1 0 1 0]\n",
      " [0 1 0 1 0 1 0 1]\n",
      " [1 0 1 0 1 0 1 0]]\n"
     ]
    }
   ],
   "source": [
    "df=np.zeros((8,8),dtype=int)\n",
    "df[1::2,::2]=1\n",
    "df[::2,1::2]=1\n",
    "print(\"Checkerboard pattern:\")\n",
    "print(df)"
   ]
  },
  {
   "cell_type": "markdown",
   "id": "3cef469b",
   "metadata": {},
   "source": [
    "10.\tWrite a NumPy program to convert a list and tuple into arrays.\n",
    "List to array:\n",
    "[1 2 3 4 5 6 7 8]\n",
    "Tuple to array:\n",
    "[[8 4 6]\n",
    "[1 2 3]]\n"
   ]
  },
  {
   "cell_type": "code",
   "execution_count": 31,
   "id": "64fd81d2",
   "metadata": {},
   "outputs": [
    {
     "name": "stdout",
     "output_type": "stream",
     "text": [
      "List to array [1, 2, 3, 4, 5, 6, 7, 8]\n",
      "Tuple to array : \n",
      "[[8 4 6]\n",
      " [1 2 3]]\n"
     ]
    }
   ],
   "source": [
    "l=[1,2,3,4,5,6,7,8]\n",
    "arr=np.array([l])\n",
    "print(\"List to array\" ,l)\n",
    "t=((8,4,6),(1,2,3))\n",
    "trr=np.array(t)\n",
    "print(\"Tuple to array : \")\n",
    "print(trr)\n"
   ]
  }
 ],
 "metadata": {
  "kernelspec": {
   "display_name": "base",
   "language": "python",
   "name": "python3"
  },
  "language_info": {
   "codemirror_mode": {
    "name": "ipython",
    "version": 3
   },
   "file_extension": ".py",
   "mimetype": "text/x-python",
   "name": "python",
   "nbconvert_exporter": "python",
   "pygments_lexer": "ipython3",
   "version": "3.13.5"
  }
 },
 "nbformat": 4,
 "nbformat_minor": 5
}
